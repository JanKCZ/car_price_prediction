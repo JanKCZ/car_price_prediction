{
 "cells": [
  {
   "cell_type": "code",
   "execution_count": 1,
   "id": "floral-convergence",
   "metadata": {},
   "outputs": [],
   "source": [
    "import requests\n",
    "import pandas as pd\n",
    "from helium import *\n",
    "from bs4 import BeautifulSoup as bs\n",
    "import time"
   ]
  },
  {
   "cell_type": "code",
   "execution_count": 226,
   "id": "complete-opportunity",
   "metadata": {},
   "outputs": [],
   "source": [
    "url = \"https://www.sauto.cz/osobni/detail/skoda/felicia/19091681?goFrom=list\"\n",
    "browser = start_chrome(url, headless=True)\n",
    "soup = bs(browser.page_source, \"html.parser\")"
   ]
  },
  {
   "cell_type": "code",
   "execution_count": 223,
   "id": "demanding-thermal",
   "metadata": {},
   "outputs": [
    {
     "data": {
      "text/plain": [
       "'Škoda'"
      ]
     },
     "execution_count": 223,
     "metadata": {},
     "output_type": "execute_result"
    }
   ],
   "source": [
    "# car_brand\n",
    "span = soup.find(\"span\", class_=\"brand\")\n",
    "car_brand = str(span).split(\"brand\\\"> \", -1)[-1].split(\" </span>\", 1)[0]\n",
    "car_brand"
   ]
  },
  {
   "cell_type": "code",
   "execution_count": 197,
   "id": "prescribed-johns",
   "metadata": {},
   "outputs": [
    {
     "data": {
      "text/plain": [
       "'Multivan'"
      ]
     },
     "execution_count": 197,
     "metadata": {},
     "output_type": "execute_result"
    }
   ],
   "source": [
    "# car_model\n",
    "span = soup.find(\"span\", class_=\"name\")\n",
    "car_model = str(span).split(\"name\\\"> \", -1)[-1].split(\" </span>\", 1)[0]\n",
    "car_model"
   ]
  },
  {
   "cell_type": "code",
   "execution_count": 198,
   "id": "american-plymouth",
   "metadata": {},
   "outputs": [
    {
     "data": {
      "text/plain": [
       "'2.0 BiTDI, 4x4, DSG, kůže, ČR'"
      ]
     },
     "execution_count": 198,
     "metadata": {},
     "output_type": "execute_result"
    }
   ],
   "source": [
    "# detail\n",
    "span = soup.find(\"span\", {\"data-sticky-headheader-value-src\": \"catalogue\"})\n",
    "detail = str(span).split(\"catalogue\\\"> \", -1)[-1].split(\" </span>\", 1)[0]\n",
    "detail"
   ]
  },
  {
   "cell_type": "code",
   "execution_count": 199,
   "id": "immediate-shuttle",
   "metadata": {},
   "outputs": [
    {
     "data": {
      "text/plain": [
       "'950000'"
      ]
     },
     "execution_count": 199,
     "metadata": {},
     "output_type": "execute_result"
    }
   ],
   "source": [
    "# price\n",
    "span = soup.find(\"strong\", itemprop=\"price\")\n",
    "price = str(span).split(\"price\\\">\", -1)[-1].split(\"</strong>\", 1)[0].replace(\"\\xa0\", \"\")\n",
    "price"
   ]
  },
  {
   "cell_type": "code",
   "execution_count": 200,
   "id": "received-massage",
   "metadata": {},
   "outputs": [
    {
     "data": {
      "text/plain": [
       "'2016'"
      ]
     },
     "execution_count": 200,
     "metadata": {},
     "output_type": "execute_result"
    }
   ],
   "source": [
    "# year\n",
    "# data-sticky-header-value-src\n",
    "span = soup.find(\"td\", {\"data-sticky-header-value-src\": \"year\"})\n",
    "year = str(span).split(\"year\\\">\", -1)[-1].split(\"</td>\", 1)[0].split(\"/\")[1]\n",
    "year"
   ]
  },
  {
   "cell_type": "code",
   "execution_count": 201,
   "id": "elementary-format",
   "metadata": {},
   "outputs": [
    {
     "data": {
      "text/plain": [
       "'109769'"
      ]
     },
     "execution_count": 201,
     "metadata": {},
     "output_type": "execute_result"
    }
   ],
   "source": [
    "# milage\n",
    "span = soup.find(\"span\", {\"class\": \"vin_detail\"})\n",
    "milage = str(span).split(\"vin_detail\\\">\", -1)[-1].split(\" km</span>\", 1)[0].replace(\"\\xa0\", \"\")\n",
    "milage"
   ]
  },
  {
   "cell_type": "code",
   "execution_count": 227,
   "id": "medium-future",
   "metadata": {},
   "outputs": [],
   "source": [
    "# table_span\n",
    "table_span = soup.find(\"table\", {\"id\":\"detailParams\"})"
   ]
  },
  {
   "cell_type": "code",
   "execution_count": 203,
   "id": "dietary-luxembourg",
   "metadata": {},
   "outputs": [
    {
     "data": {
      "text/plain": [
       "'nafta'"
      ]
     },
     "execution_count": 203,
     "metadata": {},
     "output_type": "execute_result"
    }
   ],
   "source": [
    "# fuel\n",
    "fuel = str(table_span).split(\"Palivo:</th><td>\", 1)[1].split(\"</td></tr>\")[0]\n",
    "fuel"
   ]
  },
  {
   "cell_type": "code",
   "execution_count": 204,
   "id": "above-melissa",
   "metadata": {},
   "outputs": [
    {
     "data": {
      "text/plain": [
       "'2000'"
      ]
     },
     "execution_count": 204,
     "metadata": {},
     "output_type": "execute_result"
    }
   ],
   "source": [
    "# ccm\n",
    "ccm = str(table_span).split(\"Objem:</th><td>\", 1)[1].split(\"</td></tr>\")[0].replace(\"\\xa0\", \"\").replace(\" ccm\", \"\")\n",
    "ccm"
   ]
  },
  {
   "cell_type": "code",
   "execution_count": 205,
   "id": "needed-berry",
   "metadata": {},
   "outputs": [
    {
     "data": {
      "text/plain": [
       "'150'"
      ]
     },
     "execution_count": 205,
     "metadata": {},
     "output_type": "execute_result"
    }
   ],
   "source": [
    "# power\n",
    "power = str(table_span).split(\"Výkon:</th><td>\", 1)[1].split(\" kW\", 1)[0]\n",
    "power"
   ]
  },
  {
   "cell_type": "code",
   "execution_count": 206,
   "id": "emotional-antibody",
   "metadata": {},
   "outputs": [
    {
     "data": {
      "text/plain": [
       "'automatická (6 stupňová)'"
      ]
     },
     "execution_count": 206,
     "metadata": {},
     "output_type": "execute_result"
    }
   ],
   "source": [
    "# transmissiom\n",
    "transmission = str(table_span).split(\"Převodovka:</th><td>\", 1)[1].split(\"</td></tr>\", 1)[0]\n",
    "transmission"
   ]
  },
  {
   "cell_type": "code",
   "execution_count": 207,
   "id": "transsexual-fundamental",
   "metadata": {},
   "outputs": [
    {
     "data": {
      "text/plain": [
       "'automatická'"
      ]
     },
     "execution_count": 207,
     "metadata": {},
     "output_type": "execute_result"
    }
   ],
   "source": [
    "# aircondition\n",
    "aircondition = str(table_span).split(\"Klimatizace:</th><td>\", 1)[1].split(\"</td></tr>\", 1)[0]\n",
    "aircondition"
   ]
  },
  {
   "cell_type": "code",
   "execution_count": 225,
   "id": "minor-sailing",
   "metadata": {},
   "outputs": [
    {
     "data": {
      "text/plain": [
       "'TMBUH61Z4B2069159'"
      ]
     },
     "execution_count": 225,
     "metadata": {},
     "output_type": "execute_result"
    }
   ],
   "source": [
    "# vin\n",
    "vin = str(table_span).split(\"vin_detail\\\"> \", 1)[1].split(\"<\", 1)[0].replace(\" \", \"\")\n",
    "vin"
   ]
  },
  {
   "cell_type": "code",
   "execution_count": 185,
   "id": "detected-treatment",
   "metadata": {},
   "outputs": [
    {
     "data": {
      "text/plain": [
       "'ano'"
      ]
     },
     "execution_count": 185,
     "metadata": {},
     "output_type": "execute_result"
    }
   ],
   "source": [
    "# book\n",
    "service_book = str(table_span).split(\"knížka:</th><td>\", 1)[1].split(\"</td></tr>\", 1)[0]\n",
    "service_book"
   ]
  },
  {
   "cell_type": "code",
   "execution_count": 229,
   "id": "labeled-unemployment",
   "metadata": {},
   "outputs": [
    {
     "data": {
      "text/plain": [
       "'V ceně vozidla není zahrnuta ekologická daň ve výši 3000,- Kč.'"
      ]
     },
     "execution_count": 229,
     "metadata": {},
     "output_type": "execute_result"
    }
   ],
   "source": [
    "# price_detail\n",
    "price_detail = str(table_span).split(\"Poznámka k ceně:</th><td>\", 1)[1].split(\"</td></tr>\", 1)[0]\n",
    "price_detail"
   ]
  },
  {
   "cell_type": "code",
   "execution_count": 186,
   "id": "hungarian-narrow",
   "metadata": {},
   "outputs": [
    {
     "data": {
      "text/plain": [
       "'Německo'"
      ]
     },
     "execution_count": 186,
     "metadata": {},
     "output_type": "execute_result"
    }
   ],
   "source": [
    "# country\n",
    "country = str(table_span).split(\"původu:</th><td>\", 1)[1].split(\"</td></tr>\", 1)[0]\n",
    "country"
   ]
  },
  {
   "cell_type": "code",
   "execution_count": 187,
   "id": "mediterranean-texas",
   "metadata": {},
   "outputs": [
    {
     "data": {
      "text/plain": [
       "'ojeté'"
      ]
     },
     "execution_count": 187,
     "metadata": {},
     "output_type": "execute_result"
    }
   ],
   "source": [
    "# condition\n",
    "condition = str(table_span).split(\"itemCondition\\\">\", 1)[1].split(\"</td></tr>\", 1)[0]\n",
    "condition"
   ]
  },
  {
   "cell_type": "code",
   "execution_count": 188,
   "id": "completed-tender",
   "metadata": {},
   "outputs": [
    {
     "data": {
      "text/plain": [
       "'5'"
      ]
     },
     "execution_count": 188,
     "metadata": {},
     "output_type": "execute_result"
    }
   ],
   "source": [
    "# doors\n",
    "doors = str(table_span).split(\"dveří:</th><td>\", 1)[1].split(\"</td></tr>\", 1)[0]\n",
    "doors"
   ]
  },
  {
   "cell_type": "code",
   "execution_count": 189,
   "id": "featured-sacrifice",
   "metadata": {},
   "outputs": [
    {
     "data": {
      "text/plain": [
       "'Octavia RS 2.0 Tdi 125 kW DSG combi,rok výr.12/2010,mod.2011,najeto 235.000 km,(servisní knížka)černá metal.max.výb.xenony,kůže,DSG,pádla pod volantem,radio s cd,usb,maxidot,pal.pc,tempomat,dvouzon.digi klima,dešt.senzor,ESP,kontrola tlaku pneu,dešt.senzor,parkovací senzory,vyhř.kožené sport.sedačky,el.vyhř.zrcátka. orig.18\"alu RS kola(nové celoroční pneu)nové př.brzdy,atd.Mimořádně hezký nepoškozený interiér.STK do 3/2023.'"
      ]
     },
     "execution_count": 189,
     "metadata": {},
     "output_type": "execute_result"
    }
   ],
   "source": [
    "# more_info\n",
    "#more_info = soup.find(\"div\", {\"class\": \"otherInfo more\"})\n",
    "more_info = soup.find(\"div\", {\"id\": \"description\"})\n",
    "more_info = str(more_info).split(\"itemprop=\\\"description\\\">\", 1)[1].split(\"</p> </div>\", 1)[0]\n",
    "more_info"
   ]
  },
  {
   "cell_type": "code",
   "execution_count": 190,
   "id": "virgin-tower",
   "metadata": {},
   "outputs": [
    {
     "data": {
      "text/plain": [
       "'5'"
      ]
     },
     "execution_count": 190,
     "metadata": {},
     "output_type": "execute_result"
    }
   ],
   "source": [
    "# n_ppl\n",
    "n_ppl = str(table_span).split(\"Počet míst:</th><td>\", 1)[1].split(\"</td></tr>\", 1)[0]\n",
    "n_ppl"
   ]
  },
  {
   "cell_type": "code",
   "execution_count": 191,
   "id": "quiet-coordinator",
   "metadata": {},
   "outputs": [
    {
     "data": {
      "text/plain": [
       "'kombi'"
      ]
     },
     "execution_count": 191,
     "metadata": {},
     "output_type": "execute_result"
    }
   ],
   "source": [
    "# type\n",
    "car_type = str(table_span).split(\"Karoserie:</th><td>\", 1)[1].split(\"</td></tr>\", 1)[0]\n",
    "car_type"
   ]
  },
  {
   "cell_type": "code",
   "execution_count": 192,
   "id": "working-capacity",
   "metadata": {},
   "outputs": [],
   "source": [
    "# extras\n",
    "extras = soup.find(\"div\", {\"id\": \"equipment\"})\n",
    "equipment_list = str(extras).split(\"<li>\")[1:]\n",
    "equipment = [(item.split(\"</li>\")[0]) for item in equipment_list]"
   ]
  },
  {
   "cell_type": "code",
   "execution_count": 230,
   "id": "administrative-anatomy",
   "metadata": {},
   "outputs": [
    {
     "data": {
      "text/plain": [
       "'https://www.sauto.cz/osobni/detail/skoda/felicia/19091681?goFrom=list?goFrom=list#'"
      ]
     },
     "execution_count": 230,
     "metadata": {},
     "output_type": "execute_result"
    }
   ],
   "source": [
    "f\"{url}?goFrom=list#\"\n"
   ]
  },
  {
   "cell_type": "code",
   "execution_count": 232,
   "id": "protected-product",
   "metadata": {},
   "outputs": [],
   "source": [
    "url = 'https://www.sauto.cz/osobni/detail/skoda/felicia/19091681?goFrom=lis'.split(\"?\", 1)[0]"
   ]
  },
  {
   "cell_type": "code",
   "execution_count": 233,
   "id": "assured-function",
   "metadata": {},
   "outputs": [
    {
     "data": {
      "text/plain": [
       "'https://www.sauto.cz/osobni/detail/skoda/felicia/19091681?goFrom=list#'"
      ]
     },
     "execution_count": 233,
     "metadata": {},
     "output_type": "execute_result"
    }
   ],
   "source": [
    "f\"{url}?goFrom=list#\""
   ]
  },
  {
   "cell_type": "code",
   "execution_count": null,
   "id": "united-impact",
   "metadata": {},
   "outputs": [],
   "source": []
  }
 ],
 "metadata": {
  "kernelspec": {
   "display_name": "Python 3",
   "language": "python",
   "name": "python3"
  },
  "language_info": {
   "codemirror_mode": {
    "name": "ipython",
    "version": 3
   },
   "file_extension": ".py",
   "mimetype": "text/x-python",
   "name": "python",
   "nbconvert_exporter": "python",
   "pygments_lexer": "ipython3",
   "version": "3.8.5"
  }
 },
 "nbformat": 4,
 "nbformat_minor": 5
}
